{
 "cells": [
  {
   "cell_type": "code",
   "execution_count": 5,
   "id": "6d11edaa",
   "metadata": {},
   "outputs": [
    {
     "ename": "NameError",
     "evalue": "name 'df' is not defined",
     "output_type": "error",
     "traceback": [
      "\u001b[1;31m---------------------------------------------------------------------------\u001b[0m",
      "\u001b[1;31mNameError\u001b[0m                                 Traceback (most recent call last)",
      "Cell \u001b[1;32mIn[5], line 2\u001b[0m\n\u001b[0;32m      1\u001b[0m \u001b[38;5;66;03m# df를 year로 그룹화\u001b[39;00m\n\u001b[1;32m----> 2\u001b[0m grouped_year_df \u001b[38;5;241m=\u001b[39m \u001b[43mdf\u001b[49m\u001b[38;5;241m.\u001b[39mgroupby(\u001b[38;5;124m\"\u001b[39m\u001b[38;5;124myear\u001b[39m\u001b[38;5;124m\"\u001b[39m)\u001b[38;5;66;03m# year 컬럼을 기준으로 그룹핑\u001b[39;00m\n\u001b[0;32m      3\u001b[0m \u001b[38;5;28mprint\u001b[39m(\u001b[38;5;28mtype\u001b[39m(grouped_year_df))\u001b[38;5;66;03m# DataFrameGroupBy\u001b[39;00m\n\u001b[0;32m      4\u001b[0m group_year_df\n",
      "\u001b[1;31mNameError\u001b[0m: name 'df' is not defined"
     ]
    }
   ],
   "source": [
    "# df를 year로 그룹화\n",
    "grouped_year_df = df.groupby(\"year\")# year 컬럼을 기준으로 그룹핑\n",
    "print(type(grouped_year_df))# DataFrameGroupBy\n",
    "group_year_df"
   ]
  },
  {
   "cell_type": "code",
   "execution_count": null,
   "id": "ab10803f",
   "metadata": {},
   "outputs": [],
   "source": []
  }
 ],
 "metadata": {
  "kernelspec": {
   "display_name": "Python 3 (ipykernel)",
   "language": "python",
   "name": "python3"
  },
  "language_info": {
   "codemirror_mode": {
    "name": "ipython",
    "version": 3
   },
   "file_extension": ".py",
   "mimetype": "text/x-python",
   "name": "python",
   "nbconvert_exporter": "python",
   "pygments_lexer": "ipython3",
   "version": "3.10.9"
  }
 },
 "nbformat": 4,
 "nbformat_minor": 5
}

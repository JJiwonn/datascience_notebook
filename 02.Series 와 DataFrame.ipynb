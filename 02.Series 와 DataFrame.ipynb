{
 "cells": [
  {
   "cell_type": "code",
   "execution_count": 3,
   "id": "248c4311",
   "metadata": {},
   "outputs": [],
   "source": [
    "# Series 데이터타입: 동일 자료형을 가지는 1차원 데이터\n",
    "# Series가 모여서 DataFrame을 구성한다\n",
    "\n",
    "#리스트 자료를 Series 클래스에 전달해서  생성한다\n",
    "import pandas as pd\n",
    "s = pd.Series([\"홍길동\", 28])"
   ]
  },
  {
   "cell_type": "code",
   "execution_count": null,
   "id": "4d0f356e",
   "metadata": {},
   "outputs": [],
   "source": []
  }
 ],
 "metadata": {
  "kernelspec": {
   "display_name": "Python 3 (ipykernel)",
   "language": "python",
   "name": "python3"
  },
  "language_info": {
   "codemirror_mode": {
    "name": "ipython",
    "version": 3
   },
   "file_extension": ".py",
   "mimetype": "text/x-python",
   "name": "python",
   "nbconvert_exporter": "python",
   "pygments_lexer": "ipython3",
   "version": "3.10.9"
  }
 },
 "nbformat": 4,
 "nbformat_minor": 5
}

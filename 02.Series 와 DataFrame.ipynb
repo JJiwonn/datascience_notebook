{
 "cells": [
  {
   "cell_type": "code",
   "execution_count": 1,
   "id": "248c4311",
   "metadata": {},
   "outputs": [],
   "source": [
    "# Series 데이터타입: 동일 자료형을 가지는 1차원 데이터\n",
    "# Series가 모여서 DataFrame을 구성한다\n",
    "\n",
    "#리스트 자료를 Series 클래스에 전달해서  생성한다\n",
    "import pandas as pd\n",
    "s = pd.Series([\"홍길동\", 28])"
   ]
  },
  {
   "cell_type": "code",
   "execution_count": 5,
   "id": "4d0f356e",
   "metadata": {},
   "outputs": [
    {
     "data": {
      "text/html": [
       "<div>\n",
       "<style scoped>\n",
       "    .dataframe tbody tr th:only-of-type {\n",
       "        vertical-align: middle;\n",
       "    }\n",
       "\n",
       "    .dataframe tbody tr th {\n",
       "        vertical-align: top;\n",
       "    }\n",
       "\n",
       "    .dataframe thead th {\n",
       "        text-align: right;\n",
       "    }\n",
       "</style>\n",
       "<table border=\"1\" class=\"dataframe\">\n",
       "  <thead>\n",
       "    <tr style=\"text-align: right;\">\n",
       "      <th></th>\n",
       "      <th>0</th>\n",
       "      <th>1</th>\n",
       "      <th>2</th>\n",
       "    </tr>\n",
       "  </thead>\n",
       "  <tbody>\n",
       "    <tr>\n",
       "      <th>0</th>\n",
       "      <td>홍길동</td>\n",
       "      <td>175.8</td>\n",
       "      <td>73.2</td>\n",
       "    </tr>\n",
       "    <tr>\n",
       "      <th>1</th>\n",
       "      <td>전우치</td>\n",
       "      <td>170.2</td>\n",
       "      <td>66.3</td>\n",
       "    </tr>\n",
       "    <tr>\n",
       "      <th>2</th>\n",
       "      <td>임꺽정</td>\n",
       "      <td>186.7</td>\n",
       "      <td>88.2</td>\n",
       "    </tr>\n",
       "    <tr>\n",
       "      <th>3</th>\n",
       "      <td>장길산</td>\n",
       "      <td>188.3</td>\n",
       "      <td>90.0</td>\n",
       "    </tr>\n",
       "  </tbody>\n",
       "</table>\n",
       "</div>"
      ],
      "text/plain": [
       "     0      1     2\n",
       "0  홍길동  175.8  73.2\n",
       "1  전우치  170.2  66.3\n",
       "2  임꺽정  186.7  88.2\n",
       "3  장길산  188.3  90.0"
      ]
     },
     "execution_count": 5,
     "metadata": {},
     "output_type": "execute_result"
    }
   ],
   "source": [
    "# ./data/thieves.txt 를 불러서 정제과정 -> thieves.cvs 저장\n",
    "import pandas as pd\n",
    "thieves_df = pd.read_csv(\"./data/thieves.txt\", \n",
    "                         header=None, # 데이터에 header가 없음\n",
    "                         sep=\"\\t\")    # 데이터가 탭으로 구분되어 있음을 알림\n",
    "thieves_df"
   ]
  },
  {
   "cell_type": "code",
   "execution_count": 7,
   "id": "9ad50da4",
   "metadata": {},
   "outputs": [
    {
     "data": {
      "text/html": [
       "<div>\n",
       "<style scoped>\n",
       "    .dataframe tbody tr th:only-of-type {\n",
       "        vertical-align: middle;\n",
       "    }\n",
       "\n",
       "    .dataframe tbody tr th {\n",
       "        vertical-align: top;\n",
       "    }\n",
       "\n",
       "    .dataframe thead th {\n",
       "        text-align: right;\n",
       "    }\n",
       "</style>\n",
       "<table border=\"1\" class=\"dataframe\">\n",
       "  <thead>\n",
       "    <tr style=\"text-align: right;\">\n",
       "      <th></th>\n",
       "      <th>1</th>\n",
       "      <th>2</th>\n",
       "    </tr>\n",
       "    <tr>\n",
       "      <th>0</th>\n",
       "      <th></th>\n",
       "      <th></th>\n",
       "    </tr>\n",
       "  </thead>\n",
       "  <tbody>\n",
       "    <tr>\n",
       "      <th>홍길동</th>\n",
       "      <td>175.8</td>\n",
       "      <td>73.2</td>\n",
       "    </tr>\n",
       "    <tr>\n",
       "      <th>전우치</th>\n",
       "      <td>170.2</td>\n",
       "      <td>66.3</td>\n",
       "    </tr>\n",
       "    <tr>\n",
       "      <th>임꺽정</th>\n",
       "      <td>186.7</td>\n",
       "      <td>88.2</td>\n",
       "    </tr>\n",
       "    <tr>\n",
       "      <th>장길산</th>\n",
       "      <td>188.3</td>\n",
       "      <td>90.0</td>\n",
       "    </tr>\n",
       "  </tbody>\n",
       "</table>\n",
       "</div>"
      ],
      "text/plain": [
       "         1     2\n",
       "0               \n",
       "홍길동  175.8  73.2\n",
       "전우치  170.2  66.3\n",
       "임꺽정  186.7  88.2\n",
       "장길산  188.3  90.0"
      ]
     },
     "execution_count": 7,
     "metadata": {},
     "output_type": "execute_result"
    }
   ],
   "source": [
    "# 첫번째 컬럼은 인덱스로 활용\n",
    "thieves_df2 = pd.read_csv(\"./data/thieves.txt\",\n",
    "                         header=None,\n",
    "                         sep=\"\\t\",\n",
    "                         index_col=0) # 첫번째 컬럼을 인덱스 컬럼으로 활용\n",
    "thieves_df2"
   ]
  },
  {
   "cell_type": "code",
   "execution_count": 8,
   "id": "f1476635",
   "metadata": {},
   "outputs": [
    {
     "data": {
      "text/plain": [
       "1    175.8\n",
       "2     73.2\n",
       "Name: 홍길동, dtype: float64"
      ]
     },
     "execution_count": 8,
     "metadata": {},
     "output_type": "execute_result"
    }
   ],
   "source": [
    "thieves_df2.loc['홍길동']"
   ]
  },
  {
   "cell_type": "code",
   "execution_count": 9,
   "id": "48ad3db0",
   "metadata": {},
   "outputs": [
    {
     "name": "stdout",
     "output_type": "stream",
     "text": [
      "Colums: Int64Index([1, 2], dtype='int64')\n"
     ]
    }
   ],
   "source": [
    "# 컬럼정보 확인\n",
    "print(\"Colums:\",thieves_df2.columns)"
   ]
  },
  {
   "cell_type": "code",
   "execution_count": 10,
   "id": "10890219",
   "metadata": {},
   "outputs": [
    {
     "data": {
      "text/html": [
       "<div>\n",
       "<style scoped>\n",
       "    .dataframe tbody tr th:only-of-type {\n",
       "        vertical-align: middle;\n",
       "    }\n",
       "\n",
       "    .dataframe tbody tr th {\n",
       "        vertical-align: top;\n",
       "    }\n",
       "\n",
       "    .dataframe thead th {\n",
       "        text-align: right;\n",
       "    }\n",
       "</style>\n",
       "<table border=\"1\" class=\"dataframe\">\n",
       "  <thead>\n",
       "    <tr style=\"text-align: right;\">\n",
       "      <th></th>\n",
       "      <th>height</th>\n",
       "      <th>weight</th>\n",
       "    </tr>\n",
       "    <tr>\n",
       "      <th>0</th>\n",
       "      <th></th>\n",
       "      <th></th>\n",
       "    </tr>\n",
       "  </thead>\n",
       "  <tbody>\n",
       "    <tr>\n",
       "      <th>홍길동</th>\n",
       "      <td>175.8</td>\n",
       "      <td>73.2</td>\n",
       "    </tr>\n",
       "    <tr>\n",
       "      <th>전우치</th>\n",
       "      <td>170.2</td>\n",
       "      <td>66.3</td>\n",
       "    </tr>\n",
       "    <tr>\n",
       "      <th>임꺽정</th>\n",
       "      <td>186.7</td>\n",
       "      <td>88.2</td>\n",
       "    </tr>\n",
       "    <tr>\n",
       "      <th>장길산</th>\n",
       "      <td>188.3</td>\n",
       "      <td>90.0</td>\n",
       "    </tr>\n",
       "  </tbody>\n",
       "</table>\n",
       "</div>"
      ],
      "text/plain": [
       "     height  weight\n",
       "0                  \n",
       "홍길동   175.8    73.2\n",
       "전우치   170.2    66.3\n",
       "임꺽정   186.7    88.2\n",
       "장길산   188.3    90.0"
      ]
     },
     "execution_count": 10,
     "metadata": {},
     "output_type": "execute_result"
    }
   ],
   "source": [
    "thieves_df2.columns = [\"height\", \"weight\"]\n",
    "thieves_df2"
   ]
  },
  {
   "cell_type": "code",
   "execution_count": 12,
   "id": "99c93c4d",
   "metadata": {},
   "outputs": [
    {
     "data": {
      "text/html": [
       "<div>\n",
       "<style scoped>\n",
       "    .dataframe tbody tr th:only-of-type {\n",
       "        vertical-align: middle;\n",
       "    }\n",
       "\n",
       "    .dataframe tbody tr th {\n",
       "        vertical-align: top;\n",
       "    }\n",
       "\n",
       "    .dataframe thead th {\n",
       "        text-align: right;\n",
       "    }\n",
       "</style>\n",
       "<table border=\"1\" class=\"dataframe\">\n",
       "  <thead>\n",
       "    <tr style=\"text-align: right;\">\n",
       "      <th></th>\n",
       "      <th>height</th>\n",
       "      <th>weight</th>\n",
       "    </tr>\n",
       "    <tr>\n",
       "      <th>Name</th>\n",
       "      <th></th>\n",
       "      <th></th>\n",
       "    </tr>\n",
       "  </thead>\n",
       "  <tbody>\n",
       "    <tr>\n",
       "      <th>홍길동</th>\n",
       "      <td>175.8</td>\n",
       "      <td>73.2</td>\n",
       "    </tr>\n",
       "    <tr>\n",
       "      <th>전우치</th>\n",
       "      <td>170.2</td>\n",
       "      <td>66.3</td>\n",
       "    </tr>\n",
       "    <tr>\n",
       "      <th>임꺽정</th>\n",
       "      <td>186.7</td>\n",
       "      <td>88.2</td>\n",
       "    </tr>\n",
       "    <tr>\n",
       "      <th>장길산</th>\n",
       "      <td>188.3</td>\n",
       "      <td>90.0</td>\n",
       "    </tr>\n",
       "  </tbody>\n",
       "</table>\n",
       "</div>"
      ],
      "text/plain": [
       "      height  weight\n",
       "Name                \n",
       "홍길동    175.8    73.2\n",
       "전우치    170.2    66.3\n",
       "임꺽정    186.7    88.2\n",
       "장길산    188.3    90.0"
      ]
     },
     "execution_count": 12,
     "metadata": {},
     "output_type": "execute_result"
    }
   ],
   "source": [
    "# 인덱스의 컬럼명 변경\n",
    "thieves_df2.index.name = \"Name\"\n",
    "thieves_df2"
   ]
  },
  {
   "cell_type": "code",
   "execution_count": 15,
   "id": "53fda4c1",
   "metadata": {},
   "outputs": [],
   "source": [
    "# 완성된 데이터를 /data/thieves_modify.csv\n",
    "thieves_df2.to_csv(\"./data/thieves_modify.csv\",encoding=\"utf-8\")"
   ]
  },
  {
   "cell_type": "code",
   "execution_count": 16,
   "id": "374fd063",
   "metadata": {},
   "outputs": [
    {
     "data": {
      "text/plain": [
       "0     90.0\n",
       "1     80.0\n",
       "2    120.0\n",
       "3      NaN\n",
       "4     95.0\n",
       "5     80.0\n",
       "6    -10.0\n",
       "dtype: float64"
      ]
     },
     "execution_count": 16,
     "metadata": {},
     "output_type": "execute_result"
    }
   ],
   "source": [
    "# 결측치: 비어있는 데이터\n",
    "import pandas as pd\n",
    "from numpy import nan, NaN, NAN\n",
    "\n",
    "exam_scores = pd.Series([90, 80, 120, nan, 95, 80, -10])\n",
    "exam_scores"
   ]
  },
  {
   "cell_type": "code",
   "execution_count": 19,
   "id": "c8ce9fa9",
   "metadata": {},
   "outputs": [
    {
     "name": "stdout",
     "output_type": "stream",
     "text": [
      "0    False\n",
      "1    False\n",
      "2    False\n",
      "3     True\n",
      "4    False\n",
      "5    False\n",
      "6    False\n",
      "dtype: bool\n"
     ]
    },
    {
     "data": {
      "text/plain": [
       "0     True\n",
       "1     True\n",
       "2     True\n",
       "3    False\n",
       "4     True\n",
       "5     True\n",
       "6     True\n",
       "dtype: bool"
      ]
     },
     "execution_count": 19,
     "metadata": {},
     "output_type": "execute_result"
    }
   ],
   "source": [
    "# 결측치 확인\n",
    "print(pd.isnull(exam_scores))\n",
    "# 결측치가 아닌 것 확인\n",
    "pd.notnull(exam_scores)"
   ]
  },
  {
   "cell_type": "code",
   "execution_count": 20,
   "id": "fe6e3b39",
   "metadata": {},
   "outputs": [
    {
     "name": "stdout",
     "output_type": "stream",
     "text": [
      "결측 빈도: 1\n"
     ]
    }
   ],
   "source": [
    "# 결측 빈도 확인: count_nonzero\n",
    "import numpy as np\n",
    "print(\"결측 빈도:\", np.count_nonzero(exam_scores.isnull()))"
   ]
  },
  {
   "cell_type": "code",
   "execution_count": 22,
   "id": "e5ccbab3",
   "metadata": {},
   "outputs": [
    {
     "data": {
      "text/plain": [
       "0    False\n",
       "1    False\n",
       "2     True\n",
       "3     True\n",
       "4    False\n",
       "5    False\n",
       "6     True\n",
       "dtype: bool"
      ]
     },
     "execution_count": 22,
     "metadata": {},
     "output_type": "execute_result"
    }
   ],
   "source": [
    "# 이상치를 -> 결측치로 대체\n",
    "# 결측치를 -> 중앙 값을 대체한 후\n",
    "# 최종 평균값\n",
    "\n",
    "# 이상치를 결측치로 변환\n",
    "exam_scores.isin(range(0, 101)) # 0~100사이에 있는지\n",
    "~exam_scores.isin(range(0, 101)) # 0~100사이에 범주를 벗어난 데이터 판별"
   ]
  },
  {
   "cell_type": "code",
   "execution_count": 23,
   "id": "ff491635",
   "metadata": {},
   "outputs": [
    {
     "data": {
      "text/plain": [
       "0    90.0\n",
       "1    80.0\n",
       "2     NaN\n",
       "3     NaN\n",
       "4    95.0\n",
       "5    80.0\n",
       "6     NaN\n",
       "dtype: float64"
      ]
     },
     "execution_count": 23,
     "metadata": {},
     "output_type": "execute_result"
    }
   ],
   "source": [
    "# 이상치를 결측치로 대체\n",
    "exam_scores[~exam_scores.isin(range(0, 101))] = nan\n",
    "exam_scores"
   ]
  },
  {
   "cell_type": "code",
   "execution_count": 25,
   "id": "aa06eff5",
   "metadata": {},
   "outputs": [
    {
     "name": "stdout",
     "output_type": "stream",
     "text": [
      "기초통계량:\n",
      " count     4.00\n",
      "mean     86.25\n",
      "std       7.50\n",
      "min      80.00\n",
      "25%      80.00\n",
      "50%      85.00\n",
      "75%      91.25\n",
      "max      95.00\n",
      "dtype: float64\n",
      "산술평균: 86.25\n"
     ]
    }
   ],
   "source": [
    "# 이상치를 결측치로 대체한 데이터셋의 통계\n",
    "print(\"기초통계량:\\n\", exam_scores.describe())\n",
    "print(\"산술평균:\", exam_scores.mean())"
   ]
  },
  {
   "cell_type": "code",
   "execution_count": 27,
   "id": "910d0b1a",
   "metadata": {},
   "outputs": [
    {
     "data": {
      "text/plain": [
       "0    90.0\n",
       "1    80.0\n",
       "2    85.0\n",
       "3    85.0\n",
       "4    95.0\n",
       "5    80.0\n",
       "6    85.0\n",
       "dtype: float64"
      ]
     },
     "execution_count": 27,
     "metadata": {},
     "output_type": "execute_result"
    }
   ],
   "source": [
    "# 결측치를 중앙 값으로 대체\n",
    "exam_scores[exam_scores.isnull()] = exam_scores.median()\n",
    "exam_scores"
   ]
  },
  {
   "cell_type": "code",
   "execution_count": 28,
   "id": "150897cd",
   "metadata": {},
   "outputs": [
    {
     "name": "stdout",
     "output_type": "stream",
     "text": [
      "평균: 85.71428571428571\n"
     ]
    }
   ],
   "source": [
    "# 결측치를 중앙값으로 대체한 데이터셋의 평균값\n",
    "print(\"평균:\", exam_scores.mean())"
   ]
  },
  {
   "cell_type": "code",
   "execution_count": null,
   "id": "1865b1ca",
   "metadata": {},
   "outputs": [],
   "source": []
  }
 ],
 "metadata": {
  "kernelspec": {
   "display_name": "Python 3 (ipykernel)",
   "language": "python",
   "name": "python3"
  },
  "language_info": {
   "codemirror_mode": {
    "name": "ipython",
    "version": 3
   },
   "file_extension": ".py",
   "mimetype": "text/x-python",
   "name": "python",
   "nbconvert_exporter": "python",
   "pygments_lexer": "ipython3",
   "version": "3.10.9"
  }
 },
 "nbformat": 4,
 "nbformat_minor": 5
}
